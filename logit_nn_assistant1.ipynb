{
  "nbformat": 4,
  "nbformat_minor": 0,
  "metadata": {
    "colab": {
      "provenance": []
    },
    "kernelspec": {
      "name": "python3",
      "display_name": "Python 3"
    },
    "language_info": {
      "name": "python"
    }
  },
  "cells": [
    {
      "cell_type": "code",
      "execution_count": null,
      "metadata": {
        "colab": {
          "base_uri": "https://localhost:8080/"
        },
        "id": "oou4Vx_UtIlo",
        "outputId": "664b5b44-4208-471d-9cbf-b0f7ab0c1ecb"
      },
      "outputs": [
        {
          "output_type": "execute_result",
          "data": {
            "text/plain": [
              "<torch._C.Generator at 0x7b07d3036db0>"
            ]
          },
          "metadata": {},
          "execution_count": 70
        }
      ],
      "source": [
        "import pandas as pd\n",
        "import torch\n",
        "import sklearn\n",
        "from sklearn.model_selection import train_test_split\n",
        "from sklearn.linear_model import LogisticRegression\n",
        "from sklearn.pipeline import Pipeline\n",
        "from sklearn.metrics import accuracy_score\n",
        "from sklearn.feature_extraction.text import CountVectorizer\n",
        "import pickle\n",
        "import numpy as np\n",
        "import warnings\n",
        "warnings.filterwarnings('ignore')\n",
        "torch.manual_seed(42)"
      ]
    },
    {
      "cell_type": "code",
      "source": [
        "vect = CountVectorizer(ngram_range=(2, 3), analyzer='char')"
      ],
      "metadata": {
        "id": "2857nsZW7bhZ"
      },
      "execution_count": null,
      "outputs": []
    },
    {
      "cell_type": "code",
      "source": [
        "x = torch.FloatTensor(vect.transform(['далеко мне ехать', 'далеко сосать']).todense())"
      ],
      "metadata": {
        "colab": {
          "base_uri": "https://localhost:8080/"
        },
        "id": "w7XzSxhSPUsu",
        "outputId": "beb9ed1d-7ab9-414d-eb92-76b4263f2725"
      },
      "execution_count": null,
      "outputs": [
        {
          "output_type": "stream",
          "name": "stdout",
          "text": [
            "265 µs ± 35.2 µs per loop (mean ± std. dev. of 7 runs, 1000 loops each)\n"
          ]
        }
      ]
    },
    {
      "cell_type": "code",
      "source": [
        "TRAIN_BATCH_SIZE = 5\n",
        "VALID_BATCH_SIZE = 2\n",
        "df_size = 5000\n",
        "tresh_hold = 0.5"
      ],
      "metadata": {
        "id": "s5V_pZ3EOazg"
      },
      "execution_count": null,
      "outputs": []
    },
    {
      "cell_type": "code",
      "source": [
        "comands_for_deploy = {0: GoogleSearch(),\n",
        "           1: PlayFarewellAndQuit(),\n",
        "           2: PlayGreetings(),\n",
        "           3: YouTubeSearch(),\n",
        "           4: GetWeatherForecast(),\n",
        "           5: PlaySong(),\n",
        "           6: PauseSong(),\n",
        "           7: SetVolume(),\n",
        "           8: QuieterVolume(),\n",
        "           9: LouderVolume()}"
      ],
      "metadata": {
        "id": "64-u4rKk9XDg"
      },
      "execution_count": null,
      "outputs": []
    },
    {
      "cell_type": "code",
      "source": [
        "comands = {0: 'GoogleSearch',\n",
        "           1: 'PlayFarewellAndQuit',\n",
        "           2: 'PlayGreetings',\n",
        "           3: 'YouTubeSearch',\n",
        "           4: 'GetWeatherForecast',\n",
        "           5: 'PlaySong',\n",
        "           6: 'PauseSong',\n",
        "           7: 'SetVolume',\n",
        "           8: 'QuieterVolume',\n",
        "           9: 'LouderVolume'}\n",
        "\n",
        "com_to_targ = {'GoogleSearch': 0,\n",
        "              'PlayFarewellAndQuit': 1,\n",
        "              'PlayGreetings': 2,\n",
        "              'YouTubeSearch': 3,\n",
        "              'GetWeatherForecast': 4,\n",
        "              'PlaySong': 5,\n",
        "              'PauseSong': 6,\n",
        "              'SetVolume': 7,\n",
        "              'QuieterVolume': 8,\n",
        "              'LouderVolume': 9}\n",
        "\n",
        "num_labels = len(comands)"
      ],
      "metadata": {
        "id": "EYGUQ1DEEZ_7"
      },
      "execution_count": null,
      "outputs": []
    },
    {
      "cell_type": "code",
      "source": [
        "command_lines = {'PlayGreetings': ('привет ','здравствуй ','здарово ','здарова ','добрый день ','доброе утро ','добрый вечер '),\n",
        "                'PlayFarewellAndQuit': ('пока ','покедова ','досвидания ','до скорого ','до встречи ','увидимся '),\n",
        "                'GoogleSearch': ('найди в гугл ','найди в гугле ','поищи в гугле','что такое', 'как', 'когда', 'зачем', 'почему', 'для чего', 'кто', 'кем чем', ),\n",
        "                'YouTubeSearch': ('найди видео ', 'покажи видео'),\n",
        "                'GetWeatherForecast': ('прогноз погоды ', 'какая погода '),\n",
        "                'PlaySong': ('включи песню ', 'поставь песню', 'поставь', 'трек'),\n",
        "                'PauseSong': ('стоп ', 'поставь на паузу'),\n",
        "                'SetVolume': ('установи громкость на ', 'поставь громкость на '),\n",
        "                'QuieterVolume': ('сделай тише ','сделай потише ', 'сделай ещё тише ','сделай ещё потише ','ещё тише','тише','потише'),\n",
        "                'LouderVolume': ('сделай громче ','сделай погромче ','сделай ещё громче ','сделай ещё погромче ','ещё громче','громче')}"
      ],
      "metadata": {
        "id": "V0eHP4kTHBl_"
      },
      "execution_count": null,
      "outputs": []
    },
    {
      "cell_type": "code",
      "source": [
        "all_texts = []\n",
        "for i in command_lines.values():\n",
        "  all_texts += [a for a in i]\n",
        "\n",
        "vect = vect.fit(all_texts)"
      ],
      "metadata": {
        "id": "EuRegT2L_2IZ"
      },
      "execution_count": null,
      "outputs": []
    },
    {
      "cell_type": "code",
      "source": [
        "def make_dataframe(command_lines, df_size, com_to_targ):\n",
        "  df = {'text':[], 'class':[]}\n",
        "  for row in range(df_size):\n",
        "    for clas, text in command_lines.items():\n",
        "      text = np.random.choice(text)\n",
        "      if clas == 'GoogleSearch':\n",
        "        if np.random.uniform(0.0, 1.0) > tresh_hold:\n",
        "          text = ''\n",
        "      df['text'].append(text)\n",
        "      df['class'].append(com_to_targ[clas])\n",
        "  return df\n"
      ],
      "metadata": {
        "id": "SpMYv8eTIIWe"
      },
      "execution_count": null,
      "outputs": []
    },
    {
      "cell_type": "code",
      "source": [
        "df = pd.DataFrame(make_dataframe(command_lines , df_size, com_to_targ))"
      ],
      "metadata": {
        "id": "UMT3n7chGBbw"
      },
      "execution_count": null,
      "outputs": []
    },
    {
      "cell_type": "code",
      "source": [
        "df.text_trans = df.text.map(lambda x: vect.transform([x])[0])"
      ],
      "metadata": {
        "id": "89kBLBnsOd-l"
      },
      "execution_count": null,
      "outputs": []
    },
    {
      "cell_type": "code",
      "source": [
        "features = df.text.values\n",
        "features = vect.transform(features).toarray()\n",
        "target = df['class'].values"
      ],
      "metadata": {
        "id": "6rcUvZKFQDUg"
      },
      "execution_count": null,
      "outputs": []
    },
    {
      "cell_type": "code",
      "source": [
        "X_train, X_test, y_train, y_test = train_test_split(features, target,\n",
        "                                                    random_state=42)"
      ],
      "metadata": {
        "id": "zic35n3ZOFrY"
      },
      "execution_count": null,
      "outputs": []
    },
    {
      "cell_type": "code",
      "source": [
        "model = LogisticRegression(solver='newton-cholesky', random_state=42)\n",
        "\n",
        "model.fit(X_train, y_train)\n",
        "model.score(X_test, y_test)"
      ],
      "metadata": {
        "colab": {
          "base_uri": "https://localhost:8080/"
        },
        "id": "gQXo2u6cMwAX",
        "outputId": "09c20bde-ddbe-435b-faf8-9bf31b93b679"
      },
      "execution_count": null,
      "outputs": [
        {
          "output_type": "execute_result",
          "data": {
            "text/plain": [
              "1.0"
            ]
          },
          "metadata": {},
          "execution_count": 50
        }
      ]
    },
    {
      "cell_type": "code",
      "source": [
        "def get_pred(input):\n",
        "  global model\n",
        "  global vect\n",
        "  global comands\n",
        "  x = vect.transform([input]).toarray()\n",
        "  x = model.predict(x)[0]\n",
        "  return comands[x]"
      ],
      "metadata": {
        "id": "bA-mxHRVQu7N"
      },
      "execution_count": null,
      "outputs": []
    },
    {
      "cell_type": "markdown",
      "source": [
        "TESTING"
      ],
      "metadata": {
        "id": "EG26kgniziKO"
      }
    },
    {
      "cell_type": "code",
      "source": [
        "get_pred('поставь песню три')"
      ],
      "metadata": {
        "colab": {
          "base_uri": "https://localhost:8080/",
          "height": 36
        },
        "id": "Oi0nX54dRSqv",
        "outputId": "42e15113-4546-4dd7-9d1d-18af6e95808e"
      },
      "execution_count": null,
      "outputs": [
        {
          "output_type": "execute_result",
          "data": {
            "text/plain": [
              "'PlaySong'"
            ],
            "application/vnd.google.colaboratory.intrinsic+json": {
              "type": "string"
            }
          },
          "metadata": {},
          "execution_count": 77
        }
      ]
    },
    {
      "cell_type": "code",
      "source": [
        "filename = 'log_model.sav'\n",
        "pickle.dump(model, open(filename, 'wb'))\n",
        "\n",
        "# load the model\n",
        "# load_model = pickle.load(open(filename, 'rb'))\n",
        "\n",
        "print('All files saved')"
      ],
      "metadata": {
        "id": "6C0T9BefWqw8"
      },
      "execution_count": null,
      "outputs": []
    }
  ]
}